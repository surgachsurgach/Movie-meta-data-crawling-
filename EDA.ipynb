{
 "cells": [
  {
   "cell_type": "markdown",
   "metadata": {},
   "source": [
    "# Data Loading"
   ]
  },
  {
   "cell_type": "code",
   "execution_count": null,
   "metadata": {},
   "outputs": [],
   "source": [
    "import pandas as pd\n",
    "DfBuyInfo = pd.read_csv('Datasets/INTERN_SVC_BUY.csv')\n",
    "DfCustInfo = pd.read_csv('Datasets/INTERN_SVC_PRST_MONTH.csv')\n",
    "DfSearchInfo = pd.read_csv('Datasets/INTERN_MENU_SRCH.csv')\n",
    "#DfWatchInfo = pd.read_csv('Datasets/INTERN_SVC_VOD_WAT.csv',nrows=1000)"
   ]
  },
  {
   "cell_type": "code",
   "execution_count": null,
   "metadata": {},
   "outputs": [],
   "source": [
    "# 시리즈별 시청 테이블 \n",
    "DfWatchInfo = pd.read_csv(\n",
    "    'Datasets/INTERN_SVC_VOD_WAT_SRIS_.csv',\n",
    "    usecols = {\n",
    "        'STRD_DT',\n",
    "        'SVC_MGMT_NUM',\n",
    "        'PROD_TYP_CD',\n",
    "        'PAY_YN',\n",
    "        'SRIS_ID',\n",
    "        'SRIS_NM',\n",
    "        'MV_OPEN_DT',\n",
    "        'CTG_LVL1',\n",
    "        'WAT_TMS_RNG_LST',\n",
    "        'WAT_TMS',\n",
    "        'WAT_CNT',\n",
    "        'UNIQ_EPSD_CNT'\n",
    "    },\n",
    "    dtype = {\n",
    "        'STRD_DT':'int64',\n",
    "        'SVC_MGMT_NUM':'int64',\n",
    "        'PROD_TYP_CD':'category',\n",
    "        'BUY_NUM':'float64',\n",
    "        'SALE_PRC':'float64',\n",
    "        'PAY_YN':'category',\n",
    "        'SRIS_ID':'category',\n",
    "        'SRIS_NM':'object',\n",
    "        'MV_OPEN_DT':'int64',\n",
    "        'CTG_LVL1':'category',\n",
    "        'WAT_TMS_RNG_LST':'object',\n",
    "        'WAT_TMS':'float64',\n",
    "        'WAT_CNT':'float64',\n",
    "        'UNIQ_EPSD_CNT':'int64'\n",
    "        },\n",
    "    parse_dates=['STRD_DT']\n",
    ") \n",
    "\n",
    "print(len(DfWatchInfo))\n",
    "DfWatchInfo.head()"
   ]
  },
  {
   "cell_type": "code",
   "execution_count": null,
   "metadata": {},
   "outputs": [],
   "source": [
    "a = pd.DataFrame(DfWatchInfo.groupby('SRIS_NM')['WAT_TMS'].mean())\n",
    "a['WAT_TMS'].mean()/60"
   ]
  },
  {
   "cell_type": "code",
   "execution_count": null,
   "metadata": {},
   "outputs": [],
   "source": [
    "DfBuyInfo.head()"
   ]
  },
  {
   "cell_type": "code",
   "execution_count": null,
   "metadata": {},
   "outputs": [],
   "source": [
    "DfCustInfo.head()"
   ]
  },
  {
   "cell_type": "code",
   "execution_count": null,
   "metadata": {},
   "outputs": [],
   "source": [
    "DfWatchInfo.head()"
   ]
  },
  {
   "cell_type": "markdown",
   "metadata": {},
   "source": [
    "sec --> min 변환"
   ]
  },
  {
   "cell_type": "code",
   "execution_count": null,
   "metadata": {},
   "outputs": [],
   "source": [
    "DfWatchInfo['WAT_MIN'] = DfWatchInfo['WAT_TMS'].apply(lambda x : round(int(x)/60,1))\n",
    "DfWatchInfo.head()"
   ]
  },
  {
   "cell_type": "markdown",
   "metadata": {},
   "source": [
    "# EDA"
   ]
  },
  {
   "cell_type": "code",
   "execution_count": null,
   "metadata": {},
   "outputs": [],
   "source": [
    "import matplotlib.pyplot as plt\n",
    "import matplotlib as mpl\n",
    "import seaborn as sns\n",
    "import warnings\n",
    "warnings.filterwarnings(action='ignore')\n",
    "get_ipython().run_line_magic('matplotlib', 'inline')\n",
    "\n",
    "#mpl.rc('font', family='NanumGothic')\n",
    "#mpl.rc('axes', unicode_minus=False)"
   ]
  },
  {
   "cell_type": "markdown",
   "metadata": {},
   "source": [
    "## 장르"
   ]
  },
  {
   "cell_type": "markdown",
   "metadata": {},
   "source": [
    "### 장르 종류 및 장르별 시청 수"
   ]
  },
  {
   "cell_type": "code",
   "execution_count": null,
   "metadata": {},
   "outputs": [],
   "source": [
    "CTGCount = pd.DataFrame(DfWatchInfo['CTG_LVL1'].value_counts().reset_index())\n",
    "CTGCount.rename(columns = {'index':'CTG'},inplace=True)\n",
    "CTGCount"
   ]
  },
  {
   "cell_type": "code",
   "execution_count": null,
   "metadata": {},
   "outputs": [],
   "source": [
    "plt.figure(figsize=(10,5))\n",
    "sns.barplot(x='CTG',y='CTG_LVL1',data=CTGCount)\n",
    "plt.title('CTG WAT count')\n",
    "plt.xticks(rotation='45')\n",
    "plt.show()"
   ]
  },
  {
   "cell_type": "markdown",
   "metadata": {},
   "source": [
    "### 장르별 시청시간대 비교"
   ]
  },
  {
   "cell_type": "code",
   "execution_count": null,
   "metadata": {},
   "outputs": [],
   "source": [
    "CTGWATRNGCount = pd.DataFrame(DfWatchInfo.groupby(['CTG_LVL1','WAT_TMS_RNG_CD'])['EPSD_NM'].count().reset_index())\n",
    "CTGWATRNGCount = CTGWATRNGCount.sort_values(['CTG_LVL1','WAT_TMS_RNG_CD'],ascending=False)\n",
    "#pd.set_option('display.max_rows', CTGWATRNGCount.shape[0]+1)\n",
    "CTGWATRNGCount.head()"
   ]
  },
  {
   "cell_type": "code",
   "execution_count": null,
   "metadata": {},
   "outputs": [],
   "source": [
    "plt.figure(figsize=(15,10))\n",
    "sns.catplot(x = 'CTG_LVL1',y='EPSD_NM',hue='WAT_TMS_RNG_CD',data=CTGWATRNGCount,kind='bar',ax=ax)\n",
    "plt.title('CTG WAT count')\n",
    "plt.show()"
   ]
  },
  {
   "cell_type": "markdown",
   "metadata": {},
   "source": [
    "### 장르별 시청시간 비교"
   ]
  },
  {
   "cell_type": "code",
   "execution_count": null,
   "metadata": {},
   "outputs": [],
   "source": [
    "CTGWATTMSCount = pd.DataFrame(DfWatchInfo.groupby(['CTG_LVL1'])['WAT_MIN'].mean())\n",
    "CTGWATTMSCount = CTGWATTMSCount.sort_values(['WAT_MIN'],ascending=False)\n",
    "#pd.set_option('display.max_rows', CTGWATRNGCount.shape[0]+1\n",
    "CTGWATTMSCount"
   ]
  },
  {
   "cell_type": "code",
   "execution_count": null,
   "metadata": {},
   "outputs": [],
   "source": [
    "plt.figure(figsize=[15,10])\n",
    "CTGWATTMSCount.plot(kind='bar')\n",
    "plt.xticks(rotation='45')\n",
    "plt.title('CTG WAT count')\n",
    "plt.show()"
   ]
  },
  {
   "cell_type": "markdown",
   "metadata": {},
   "source": [
    "### 시청시간대별 주 시청 장르"
   ]
  },
  {
   "cell_type": "code",
   "execution_count": null,
   "metadata": {},
   "outputs": [],
   "source": [
    "WATRNGCTGCount = pd.DataFrame(DfWatchInfo.groupby(['WAT_TMS_RNG_CD', 'CTG_LVL1'])['EPSD_NM'].count().reset_index())\n",
    "WATRNGCTGCount = WATRNGCTGCount.sort_values(['WAT_TMS_RNG_CD','EPSD_NM'],ascending=False)\n",
    "#pd.set_option('display.max_rows', CTGWATRNGCount.shape[0]+1)\n",
    "WATRNGCTGCount"
   ]
  },
  {
   "cell_type": "markdown",
   "metadata": {},
   "source": [
    "## 시청 시간대별 시청 시간, 시청 수, 구매 수 (평균값, 한국영화)\n",
    "<strong>유료와 무료로 나누어서 분석</strong>\n",
    "유료에서는 PPM 30과 PPV 10 를 구분\n",
    "- PPV + PAY NO = FOD\n",
    "- PPM + PAY NO = 프로모션"
   ]
  },
  {
   "cell_type": "code",
   "execution_count": null,
   "metadata": {},
   "outputs": [],
   "source": [
    "DfWatchInfo10 = DfWatchInfo[DfWatchInfo['PROD_TYP_CD']==10]\n",
    "DfWatchInfo30 = DfWatchInfo[DfWatchInfo['PROD_TYP_CD']==30]"
   ]
  },
  {
   "cell_type": "code",
   "execution_count": null,
   "metadata": {},
   "outputs": [],
   "source": [
    "DfKoreanMoviePayNo10 = DfWatchInfo10[(DfWatchInfo10['CTG_LVL1']=='1_한국영화')&(DfWatchInfo10['PAY_YN']=='N')]\n",
    "tmp1 = pd.DataFrame(DfKoreanMoviePayNo10.groupby('WAT_TMS_RNG_CD')['WAT_MIN'].mean())\n",
    "tmp2 = pd.DataFrame(DfKoreanMoviePayNo10.groupby('WAT_TMS_RNG_CD')['EPSD_NM'].count())\n",
    "DfKoreanMoviePayNo10 = pd.concat([tmp1,tmp2],axis=1)"
   ]
  },
  {
   "cell_type": "code",
   "execution_count": null,
   "metadata": {},
   "outputs": [],
   "source": [
    "DfKoreanMoviePayYes10 = DfWatchInfo10[(DfWatchInfo10['CTG_LVL1']=='1_한국영화')&(DfWatchInfo10['PAY_YN']=='Y')]\n",
    "tmp1 = pd.DataFrame(DfKoreanMoviePayYes10.groupby('WAT_TMS_RNG_CD')['WAT_MIN'].mean())\n",
    "tmp2 = pd.DataFrame(DfKoreanMoviePayYes10.groupby('WAT_TMS_RNG_CD')['EPSD_NM'].count())\n",
    "DfKoreanMoviePayYes10 = pd.concat([tmp1,tmp2],axis=1)"
   ]
  },
  {
   "cell_type": "code",
   "execution_count": null,
   "metadata": {},
   "outputs": [],
   "source": [
    "#현재 여건상 뽑아본 1000개 샘플중에는 ppm으로 한국영화를 보는 세톱박스가 없음\n",
    "DfKoreanMoviePayYes30 = DfWatchInfo30[(DfWatchInfo30['CTG_LVL1']=='1_한국영화')&(DfWatchInfo30['PAY_YN']=='Y')]\n",
    "tmp1 = pd.DataFrame(DfKoreanMoviePayYes30.groupby('WAT_TMS_RNG_CD')['WAT_MIN'].mean())\n",
    "tmp2 = pd.DataFrame(DfKoreanMoviePayYes30.groupby('WAT_TMS_RNG_CD')['EPSD_NM'].count())\n",
    "DfKoreanMoviePayYes30 = pd.concat([tmp1,tmp2],axis=1)"
   ]
  },
  {
   "cell_type": "code",
   "execution_count": null,
   "metadata": {},
   "outputs": [],
   "source": [
    "# 프로모션 고객\n",
    "#DfKoreanMoviePayNo30 = DfWatchInfo30[(DfWatchInfo30['CTG_LVL1']=='1_한국영화')&(DfWatchInfo30['PAY_YN']=='N')]\n",
    "#tmp1 = pd.DataFrame(DfKoreanMoviePayNo30.groupby('WAT_TMS_RNG_CD')['WAT_MIN'].mean())\n",
    "#tmp2 = pd.DataFrame(DfKoreanMoviePayNo30.groupby('WAT_TMS_RNG_CD')['EPSD_NM'].count())\n",
    "#DfKoreanMoviePayNo30 = pd.concat([tmp1,tmp2],axis=1)"
   ]
  },
  {
   "cell_type": "code",
   "execution_count": null,
   "metadata": {},
   "outputs": [],
   "source": [
    "DfKoreanMoviePayYes10.reset_index(inplace=True)\n",
    "DfKoreanMoviePayYes10.rename(columns={'WAT_TMS_RNG_CD':'HOUR'},inplace=True)\n",
    "DfKoreanMoviePayYes10.set_index('HOUR',inplace=True)\n",
    "DfKoreanMoviePayYes10"
   ]
  },
  {
   "cell_type": "markdown",
   "metadata": {},
   "source": [
    "- 구매 테이블에서 월정액은 에피소드 id가 남지 않음\n",
    "    - 이유 : 구독권을 사는거지 단건 vod를 구매하는 것이 아니기 때문"
   ]
  },
  {
   "cell_type": "code",
   "execution_count": null,
   "metadata": {},
   "outputs": [],
   "source": [
    "DfBuyInfo['HOUR'] = DfBuyInfo['BUY_DTM'].apply(lambda x: 'H'+str(x)[8:10]) #구매시간을 시간대별로 구분\n",
    "DfBuyInfo10 = DfBuyInfo[DfBuyInfo['PROD_TYP_CD']==10]\n",
    "DfBuyInfo10 = pd.merge(DfBuyInfo10[['STRD_DT','BUY_NUM','HOUR','CUST_NUM','SVC_MGMT_NUM','PROD_TYP_CD','SALE_PRC','EPSD_ID']],\n",
    "                       DfWatchInfo[['EPSD_ID','CTG_LVL1']],on = 'EPSD_ID',how = 'inner' ) #장르 컬럼 붙이기\n",
    "DfBuyInfo10 = DfBuyInfo10.drop_duplicates()\n",
    "DfBuyInfo10.head()"
   ]
  },
  {
   "cell_type": "code",
   "execution_count": null,
   "metadata": {},
   "outputs": [],
   "source": [
    "DfBuyInfoKoreaMv10 = DfBuyInfo10[DfBuyInfo10['CTG_LVL1']=='1_한국영화']\n",
    "tmp = pd.DataFrame(DfBuyInfoKoreaMv10.groupby(['STRD_DT','HOUR'])['BUY_NUM'].count()).reset_index()\n",
    "DfBuyInfoKoreaMv10 = pd.DataFrame(tmp.groupby('HOUR')['BUY_NUM'].mean())\n",
    "DfBuyInfoKoreaMv10"
   ]
  },
  {
   "cell_type": "markdown",
   "metadata": {},
   "source": [
    "merge DfKoreanMoviePayYes10 , DfBuyInfoKoreaMv10"
   ]
  },
  {
   "cell_type": "code",
   "execution_count": null,
   "metadata": {},
   "outputs": [],
   "source": [
    "infoByHour = pd.concat([DfKoreanMoviePayYes10,DfBuyInfoKoreaMv10],axis=1)\n",
    "infoByHour.columns = ['PAY_YES_WAT_MIN','PAY_YES_WAT_COUNT','BUY_COUNT']\n",
    "infoByHour.sort_values('PAY_YES_WAT_MIN',ascending=False)\n",
    "infoByHour.reset_index(inplace=True)\n",
    "infoByHour.rename(columns={'index':'HOUR'},inplace=True)\n",
    "infoByHour.head()"
   ]
  },
  {
   "cell_type": "markdown",
   "metadata": {},
   "source": [
    "ppv+ 무료 = fod의 시간대별 시청패턴"
   ]
  },
  {
   "cell_type": "code",
   "execution_count": null,
   "metadata": {},
   "outputs": [],
   "source": [
    "DfKoreanMoviePayNo10.reset_index(inplace=True)\n",
    "DfKoreanMoviePayNo10.rename(columns={'WAT_TMS_RNG_CD':'HOUR','EPSD_NM':'PAY_NO_WAT_COUNT','WAT_MIN':'PAY_NO_WAT_MIN'},inplace=True)\n",
    "DfKoreanMoviePayNo10.sort_values('PAY_NO_WAT_MIN',ascending=False)"
   ]
  },
  {
   "cell_type": "markdown",
   "metadata": {},
   "source": [
    "* <STRONG>BUY_COUNT는 PAY_YES에 한해서 COUNT</STRONG>"
   ]
  },
  {
   "cell_type": "code",
   "execution_count": null,
   "metadata": {},
   "outputs": [],
   "source": [
    "TotalInfoByHour = pd.merge(infoByHour,DfKoreanMoviePayNo10, on ='HOUR',how='inner')\n",
    "TotalInfoByHour.set_index('HOUR',inplace=True)\n",
    "TotalInfoByHour.sort_values(['PAY_YES_WAT_MIN'],ascending=False)"
   ]
  },
  {
   "cell_type": "markdown",
   "metadata": {},
   "source": [
    "## 유료 vs 무료"
   ]
  },
  {
   "cell_type": "markdown",
   "metadata": {},
   "source": [
    "### 장르별 시청수\n"
   ]
  },
  {
   "cell_type": "code",
   "execution_count": null,
   "metadata": {},
   "outputs": [],
   "source": [
    "PAYYNCTGCount = pd.DataFrame(DfWatchInfo.groupby(['PAY_YN','CTG_LVL1'])['EPSD_NM'].count().reset_index())\n",
    "PAYYNCTGCount = PAYYNCTGCount.sort_values(['PAY_YN','EPSD_NM'],ascending=False)\n",
    "PAYYNCTGCount"
   ]
  },
  {
   "cell_type": "code",
   "execution_count": null,
   "metadata": {},
   "outputs": [],
   "source": [
    "plt.figure(figsize=(15,10))\n",
    "sns.catplot(x = 'CTG_LVL1',y='EPSD_NM',hue='PAY_YN',data=PAYYNCTGCount,kind='bar')\n",
    "plt.title('PAY_YN CTG count')\n",
    "plt.xticks(rotation='45')\n",
    "plt.show()"
   ]
  },
  {
   "cell_type": "markdown",
   "metadata": {},
   "source": [
    "### 장르별 시청 시간"
   ]
  },
  {
   "cell_type": "code",
   "execution_count": null,
   "metadata": {},
   "outputs": [],
   "source": [
    "PAYYNCTGTMSMean = pd.DataFrame(DfWatchInfo.groupby(['PAY_YN','CTG_LVL1'])['WAT_MIN'].mean().reset_index())\n",
    "PAYYNCTGTMSMean = PAYYNCTGTMSMean.sort_values(['PAY_YN','WAT_MIN'],ascending=False)\n",
    "PAYYNCTGTMSMean"
   ]
  },
  {
   "cell_type": "code",
   "execution_count": null,
   "metadata": {},
   "outputs": [],
   "source": [
    "plt.figure(figsize=(15,10))\n",
    "sns.catplot(x = 'CTG_LVL1',y='WAT_MIN',hue='PAY_YN',data=PAYYNCTGTMSMean,kind='bar')\n",
    "plt.title('WAT MIN mean')\n",
    "plt.xticks(rotation='45')\n",
    "plt.show()"
   ]
  },
  {
   "cell_type": "markdown",
   "metadata": {},
   "source": [
    "### 장르별 시청시간 분포"
   ]
  },
  {
   "cell_type": "markdown",
   "metadata": {},
   "source": [
    "pay_yn : N, CTG : "
   ]
  },
  {
   "cell_type": "code",
   "execution_count": null,
   "metadata": {},
   "outputs": [],
   "source": [
    "ctgList = DfWatchInfo[DfWatchInfo['PAY_YN']=='N']['CTG_LVL1'].unique().tolist()\n",
    "print(len(ctgList))"
   ]
  },
  {
   "cell_type": "code",
   "execution_count": null,
   "metadata": {},
   "outputs": [],
   "source": [
    "nPayCtgWatchDist = DfWatchInfo[DfWatchInfo['PAY_YN']=='N']\n",
    "yPayCtgWatchDist = DfWatchInfo[DfWatchInfo['PAY_YN']=='Y']\n"
   ]
  },
  {
   "cell_type": "code",
   "execution_count": null,
   "metadata": {},
   "outputs": [],
   "source": [
    "fig, axes = plt.subplots(nrows=8, ncols=2,figsize=(15,30))\n",
    "for i, ctg in enumerate(ctgList):\n",
    "    sns.distplot(nPayCtgWatchDist[nPayCtgWatchDist['CTG_LVL1']==ctg]['WAT_MIN'].values,ax=axes[i][0])\n",
    "    sns.distplot(yPayCtgWatchDist[yPayCtgWatchDist['CTG_LVL1']==ctg]['WAT_MIN'].values,ax=axes[i][1])\n",
    "    axes[i][0].set_title(ctg+'PAY NO mean watch MIN')\n",
    "    axes[i][1].set_title(ctg+'PAY YES mean watch MIN')\n",
    "plt.show()"
   ]
  },
  {
   "cell_type": "markdown",
   "metadata": {},
   "source": [
    "## 연령별 분석 (한국영화, 해외 영화)"
   ]
  },
  {
   "cell_type": "markdown",
   "metadata": {},
   "source": [
    "### 주 나이대"
   ]
  },
  {
   "cell_type": "markdown",
   "metadata": {},
   "source": [
    "### 주 시청 시간대"
   ]
  },
  {
   "cell_type": "markdown",
   "metadata": {},
   "source": [
    "### 시청 시간 추이"
   ]
  },
  {
   "cell_type": "markdown",
   "metadata": {},
   "source": [
    "## 시청 건수 중에서 검색 진입 비중 파악"
   ]
  },
  {
   "cell_type": "code",
   "execution_count": null,
   "metadata": {},
   "outputs": [],
   "source": [
    "print(len(DfSearchInfo))\n",
    "DfSearchInfo.head()"
   ]
  },
  {
   "cell_type": "code",
   "execution_count": null,
   "metadata": {},
   "outputs": [],
   "source": [
    "print(len(DfWatchInfo))\n",
    "DfWatchInfo.head()"
   ]
  },
  {
   "cell_type": "code",
   "execution_count": null,
   "metadata": {},
   "outputs": [],
   "source": [
    "mergeWatch = DfWatchInfo[['SRIS_ID','CTG_LVL1']].drop_duplicates()\n",
    "searchMerged = pd.merge(DfSearchInfo, mergeWatch, on = 'SRIS_ID', how ='inner')\n",
    "searchMerged.head()"
   ]
  },
  {
   "cell_type": "markdown",
   "metadata": {},
   "source": [
    "### 카테고리별 월별 검색 수"
   ]
  },
  {
   "cell_type": "code",
   "execution_count": null,
   "metadata": {},
   "outputs": [],
   "source": [
    "searchMerged['MONTH'] = searchMerged['STRD_DT'].apply(lambda x :str(x)[:-2]).astype(int)\n",
    "searchMerged.head()"
   ]
  },
  {
   "cell_type": "code",
   "execution_count": null,
   "metadata": {},
   "outputs": [],
   "source": [
    "searchGroupCnt = searchMerged.groupby(['MONTH','CTG_LVL1'])['PATH_GNB_MENU_NM'].count()\n",
    "searchGroupCnt = pd.DataFrame(searchGroupCnt).rename(columns = {'PATH_GNB_MENU_NM': 'SEARCH_CNT'})\n",
    "searchGroupCnt"
   ]
  },
  {
   "cell_type": "markdown",
   "metadata": {},
   "source": [
    "### 카테고리별 월별 시청 수 "
   ]
  },
  {
   "cell_type": "code",
   "execution_count": null,
   "metadata": {},
   "outputs": [],
   "source": [
    "DfWatchInfo['MONTH'] = DfWatchInfo['STRD_DT'].apply(lambda x :str(x)[:-2]).astype(int)\n",
    "DfWatchInfo.head()"
   ]
  },
  {
   "cell_type": "code",
   "execution_count": null,
   "metadata": {},
   "outputs": [],
   "source": []
  },
  {
   "cell_type": "code",
   "execution_count": null,
   "metadata": {},
   "outputs": [],
   "source": []
  }
 ],
 "metadata": {
  "kernelspec": {
   "display_name": "Python 3",
   "language": "python",
   "name": "python3"
  },
  "language_info": {
   "codemirror_mode": {
    "name": "ipython",
    "version": 3
   },
   "file_extension": ".py",
   "mimetype": "text/x-python",
   "name": "python",
   "nbconvert_exporter": "python",
   "pygments_lexer": "ipython3",
   "version": "3.7.4"
  },
  "toc": {
   "base_numbering": 1,
   "nav_menu": {},
   "number_sections": true,
   "sideBar": true,
   "skip_h1_title": false,
   "title_cell": "Table of Contents",
   "title_sidebar": "Contents",
   "toc_cell": false,
   "toc_position": {},
   "toc_section_display": true,
   "toc_window_display": true
  },
  "varInspector": {
   "cols": {
    "lenName": 16,
    "lenType": 16,
    "lenVar": 40
   },
   "kernels_config": {
    "python": {
     "delete_cmd_postfix": "",
     "delete_cmd_prefix": "del ",
     "library": "var_list.py",
     "varRefreshCmd": "print(var_dic_list())"
    },
    "r": {
     "delete_cmd_postfix": ") ",
     "delete_cmd_prefix": "rm(",
     "library": "var_list.r",
     "varRefreshCmd": "cat(var_dic_list()) "
    }
   },
   "types_to_exclude": [
    "module",
    "function",
    "builtin_function_or_method",
    "instance",
    "_Feature"
   ],
   "window_display": false
  }
 },
 "nbformat": 4,
 "nbformat_minor": 2
}
